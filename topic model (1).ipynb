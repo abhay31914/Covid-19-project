{
 "cells": [
  {
   "cell_type": "code",
   "execution_count": 27,
   "metadata": {
    "_uuid": "8f2839f25d086af736a60e9eeb907d3b93b6e0e5",
    "_cell_guid": "b1076dfc-b9ad-4769-8c92-a6c4dae69d19",
    "trusted": true
   },
   "outputs": [],
   "source": [
    "import numpy as np\n",
    "import pandas as pd\n"
   ]
  },
  {
   "cell_type": "code",
   "execution_count": 28,
   "metadata": {
    "_uuid": "d629ff2d2480ee46fbb7e2d37f6b5fab8052498a",
    "_cell_guid": "79c7e3d0-c299-4dcb-8224-4455121ee9b0",
    "trusted": true
   },
   "outputs": [],
   "source": [
    "df = pd.read_csv('../input/final-datafilecsv/final_datafile.csv')\n"
   ]
  },
  {
   "cell_type": "code",
   "execution_count": 29,
   "metadata": {
    "trusted": true
   },
   "outputs": [
    {
     "data": {
      "text/html": [
       "<div>\n<style scoped>\n    .dataframe tbody tr th:only-of-type {\n        vertical-align: middle;\n    }\n\n    .dataframe tbody tr th {\n        vertical-align: top;\n    }\n\n    .dataframe thead th {\n        text-align: right;\n    }\n</style>\n<table border=\"1\" class=\"dataframe\">\n  <thead>\n    <tr style=\"text-align: right;\">\n      <th></th>\n      <th>Unnamed: 0</th>\n      <th>title</th>\n      <th>abstract</th>\n      <th>body_text</th>\n      <th>ref</th>\n      <th>text_lemmatized</th>\n    </tr>\n  </thead>\n  <tbody>\n    <tr>\n      <th>0</th>\n      <td>1</td>\n      <td>analysis title regaining perspective sars-cov-...</td>\n      <td>past three months new coronavirus epidemic gro...</td>\n      <td>december 2019 novel coronavirus sars-cov-2 ide...</td>\n      <td>ms supported part stephany w holloway universi...</td>\n      <td>['december', '2019', 'novel', 'coronavirus', '...</td>\n    </tr>\n    <tr>\n      <th>1</th>\n      <td>2</td>\n      <td>relationship average daily temperature average...</td>\n      <td>rapid outbreak new coronavirus pandemic spread...</td>\n      <td>outbreak infectious diseases always one import...</td>\n      <td>studies area include nkengasong mankoula wen e...</td>\n      <td>['outbreak', 'infectious', 'disease', 'always'...</td>\n    </tr>\n    <tr>\n      <th>2</th>\n      <td>7</td>\n      <td>assessing spread risk wuhan novel coronavirus ...</td>\n      <td>background novel coronavirus emerged wuhan cit...</td>\n      <td>december 2019 cluster patients pneumonia unkno...</td>\n      <td>february 1 st 2020 reported singapore south ko...</td>\n      <td>['december', '2019', 'cluster', 'patient', 'pn...</td>\n    </tr>\n    <tr>\n      <th>3</th>\n      <td>8</td>\n      <td>forecasting worldwide spread covid-19 based lo...</td>\n      <td>background outbreak coronavirus disease 2019 s...</td>\n      <td>novel coronavirus caused pneumonia cases wuhan...</td>\n      <td>including italy south korea iran france epidem...</td>\n      <td>['novel', 'coronavirus', 'caused', 'pneumonia'...</td>\n    </tr>\n    <tr>\n      <th>4</th>\n      <td>9</td>\n      <td>title early scientific literature response nov...</td>\n      <td>rights reserved reuse allowed without permissi...</td>\n      <td>recent events highlight emerging re-emerging p...</td>\n      <td>moher liberati tetzlaff j altman dg prisma gro...</td>\n      <td>['recent', 'event', 'highlight', 'emerging', '...</td>\n    </tr>\n  </tbody>\n</table>\n</div>"
      ],
      "text/plain": [
       "   Unnamed: 0                                              title  \\\n0           1  analysis title regaining perspective sars-cov-...   \n1           2  relationship average daily temperature average...   \n2           7  assessing spread risk wuhan novel coronavirus ...   \n3           8  forecasting worldwide spread covid-19 based lo...   \n4           9  title early scientific literature response nov...   \n\n                                            abstract  \\\n0  past three months new coronavirus epidemic gro...   \n1  rapid outbreak new coronavirus pandemic spread...   \n2  background novel coronavirus emerged wuhan cit...   \n3  background outbreak coronavirus disease 2019 s...   \n4  rights reserved reuse allowed without permissi...   \n\n                                           body_text  \\\n0  december 2019 novel coronavirus sars-cov-2 ide...   \n1  outbreak infectious diseases always one import...   \n2  december 2019 cluster patients pneumonia unkno...   \n3  novel coronavirus caused pneumonia cases wuhan...   \n4  recent events highlight emerging re-emerging p...   \n\n                                                 ref  \\\n0  ms supported part stephany w holloway universi...   \n1  studies area include nkengasong mankoula wen e...   \n2  february 1 st 2020 reported singapore south ko...   \n3  including italy south korea iran france epidem...   \n4  moher liberati tetzlaff j altman dg prisma gro...   \n\n                                     text_lemmatized  \n0  ['december', '2019', 'novel', 'coronavirus', '...  \n1  ['outbreak', 'infectious', 'disease', 'always'...  \n2  ['december', '2019', 'cluster', 'patient', 'pn...  \n3  ['novel', 'coronavirus', 'caused', 'pneumonia'...  \n4  ['recent', 'event', 'highlight', 'emerging', '...  "
      ]
     },
     "execution_count": 29,
     "metadata": {},
     "output_type": "execute_result"
    }
   ],
   "source": [
    "df.head()"
   ]
  },
  {
   "cell_type": "code",
   "execution_count": 30,
   "metadata": {
    "trusted": true
   },
   "outputs": [
    {
     "name": "stdout",
     "output_type": "stream",
     "text": [
      "Requirement already satisfied: ktrain in /opt/conda/lib/python3.7/site-packages (0.14.7)\nRequirement already satisfied: langdetect in /opt/conda/lib/python3.7/site-packages (from ktrain) (1.0.8)\nRequirement already satisfied: cchardet==2.1.5 in /opt/conda/lib/python3.7/site-packages (from ktrain) (2.1.5)\nRequirement already satisfied: jieba in /opt/conda/lib/python3.7/site-packages (from ktrain) (0.42.1)\nRequirement already satisfied: fastprogress>=0.1.21 in /opt/conda/lib/python3.7/site-packages (from ktrain) (0.2.3)\nRequirement already satisfied: syntok in /opt/conda/lib/python3.7/site-packages (from ktrain) (1.3.1)\nRequirement already satisfied: networkx>=2.3 in /opt/conda/lib/python3.7/site-packages (from ktrain) (2.4)\nRequirement already satisfied: transformers>=2.7.0 in /opt/conda/lib/python3.7/site-packages (from ktrain) (2.8.0)\nRequirement already satisfied: seqeval in /opt/conda/lib/python3.7/site-packages (from ktrain) (0.0.12)\nRequirement already satisfied: pandas>=1.0.1 in /opt/conda/lib/python3.7/site-packages (from ktrain) (1.0.1)\nRequirement already satisfied: tensorflow-datasets in /opt/conda/lib/python3.7/site-packages (from ktrain) (3.1.0)\nRequirement already satisfied: requests in /opt/conda/lib/python3.7/site-packages (from ktrain) (2.23.0)\nRequirement already satisfied: scikit-learn>=0.21.3 in /opt/conda/lib/python3.7/site-packages (from ktrain) (0.22.2.post1)\nRequirement already satisfied: bokeh in /opt/conda/lib/python3.7/site-packages (from ktrain) (2.0.1)\nRequirement already satisfied: matplotlib>=3.0.0 in /opt/conda/lib/python3.7/site-packages (from ktrain) (3.1.3)\nRequirement already satisfied: packaging in /opt/conda/lib/python3.7/site-packages (from ktrain) (20.1)\nRequirement already satisfied: tensorflow==2.1.0 in /opt/conda/lib/python3.7/site-packages (from ktrain) (2.1.0)\nRequirement already satisfied: whoosh in /opt/conda/lib/python3.7/site-packages (from ktrain) (2.7.4)\nRequirement already satisfied: keras-bert>=0.81.0 in /opt/conda/lib/python3.7/site-packages (from ktrain) (0.81.0)\nRequirement already satisfied: joblib in /opt/conda/lib/python3.7/site-packages (from ktrain) (0.14.1)\nRequirement already satisfied: ipython in /opt/conda/lib/python3.7/site-packages (from ktrain) (7.12.0)\nRequirement already satisfied: six in /opt/conda/lib/python3.7/site-packages (from langdetect->ktrain) (1.14.0)\nRequirement already satisfied: regex in /opt/conda/lib/python3.7/site-packages (from syntok->ktrain) (2020.4.4)\nRequirement already satisfied: decorator>=4.3.0 in /opt/conda/lib/python3.7/site-packages (from networkx>=2.3->ktrain) (4.4.1)\nRequirement already satisfied: sentencepiece in /opt/conda/lib/python3.7/site-packages (from transformers>=2.7.0->ktrain) (0.1.85)\nRequirement already satisfied: numpy in /opt/conda/lib/python3.7/site-packages (from transformers>=2.7.0->ktrain) (1.18.1)\nRequirement already satisfied: tokenizers==0.5.2 in /opt/conda/lib/python3.7/site-packages (from transformers>=2.7.0->ktrain) (0.5.2)\nRequirement already satisfied: tqdm>=4.27 in /opt/conda/lib/python3.7/site-packages (from transformers>=2.7.0->ktrain) (4.43.0)\nRequirement already satisfied: filelock in /opt/conda/lib/python3.7/site-packages (from transformers>=2.7.0->ktrain) (3.0.10)\nRequirement already satisfied: boto3 in /opt/conda/lib/python3.7/site-packages (from transformers>=2.7.0->ktrain) (1.12.43)\nRequirement already satisfied: sacremoses in /opt/conda/lib/python3.7/site-packages (from transformers>=2.7.0->ktrain) (0.0.41)\nRequirement already satisfied: Keras>=2.2.4 in /opt/conda/lib/python3.7/site-packages (from seqeval->ktrain) (2.3.1)\nRequirement already satisfied: python-dateutil>=2.6.1 in /opt/conda/lib/python3.7/site-packages (from pandas>=1.0.1->ktrain) (2.8.1)\nRequirement already satisfied: pytz>=2017.2 in /opt/conda/lib/python3.7/site-packages (from pandas>=1.0.1->ktrain) (2019.3)\nRequirement already satisfied: protobuf>=3.6.1 in /opt/conda/lib/python3.7/site-packages (from tensorflow-datasets->ktrain) (3.11.3)\nRequirement already satisfied: future in /opt/conda/lib/python3.7/site-packages (from tensorflow-datasets->ktrain) (0.18.2)\nRequirement already satisfied: termcolor in /opt/conda/lib/python3.7/site-packages (from tensorflow-datasets->ktrain) (1.1.0)\nRequirement already satisfied: wrapt in /opt/conda/lib/python3.7/site-packages (from tensorflow-datasets->ktrain) (1.11.2)\nRequirement already satisfied: tensorflow-metadata in /opt/conda/lib/python3.7/site-packages (from tensorflow-datasets->ktrain) (0.22.0)\nRequirement already satisfied: attrs>=18.1.0 in /opt/conda/lib/python3.7/site-packages (from tensorflow-datasets->ktrain) (19.3.0)\nRequirement already satisfied: promise in /opt/conda/lib/python3.7/site-packages (from tensorflow-datasets->ktrain) (2.3)\nRequirement already satisfied: dill in /opt/conda/lib/python3.7/site-packages (from tensorflow-datasets->ktrain) (0.3.1.1)\nRequirement already satisfied: absl-py in /opt/conda/lib/python3.7/site-packages (from tensorflow-datasets->ktrain) (0.9.0)\nRequirement already satisfied: certifi>=2017.4.17 in /opt/conda/lib/python3.7/site-packages (from requests->ktrain) (2020.4.5.1)\nRequirement already satisfied: chardet<4,>=3.0.2 in /opt/conda/lib/python3.7/site-packages (from requests->ktrain) (3.0.4)\nRequirement already satisfied: urllib3!=1.25.0,!=1.25.1,<1.26,>=1.21.1 in /opt/conda/lib/python3.7/site-packages (from requests->ktrain) (1.25.7)\nRequirement already satisfied: idna<3,>=2.5 in /opt/conda/lib/python3.7/site-packages (from requests->ktrain) (2.9)\nRequirement already satisfied: scipy>=0.17.0 in /opt/conda/lib/python3.7/site-packages (from scikit-learn>=0.21.3->ktrain) (1.4.1)\nRequirement already satisfied: Jinja2>=2.7 in /opt/conda/lib/python3.7/site-packages (from bokeh->ktrain) (2.11.1)\nRequirement already satisfied: tornado>=5 in /opt/conda/lib/python3.7/site-packages (from bokeh->ktrain) (5.0.2)\nRequirement already satisfied: pillow>=4.0 in /opt/conda/lib/python3.7/site-packages (from bokeh->ktrain) (5.4.1)\nRequirement already satisfied: typing-extensions>=3.7.4 in /opt/conda/lib/python3.7/site-packages (from bokeh->ktrain) (3.7.4.2)\nRequirement already satisfied: PyYAML>=3.10 in /opt/conda/lib/python3.7/site-packages (from bokeh->ktrain) (5.3)\nRequirement already satisfied: pyparsing!=2.0.4,!=2.1.2,!=2.1.6,>=2.0.1 in /opt/conda/lib/python3.7/site-packages (from matplotlib>=3.0.0->ktrain) (2.4.6)\nRequirement already satisfied: cycler>=0.10 in /opt/conda/lib/python3.7/site-packages (from matplotlib>=3.0.0->ktrain) (0.10.0)\nRequirement already satisfied: kiwisolver>=1.0.1 in /opt/conda/lib/python3.7/site-packages (from matplotlib>=3.0.0->ktrain) (1.1.0)\nRequirement already satisfied: google-pasta>=0.1.6 in /opt/conda/lib/python3.7/site-packages (from tensorflow==2.1.0->ktrain) (0.2.0)\nRequirement already satisfied: wheel>=0.26; python_version >= \"3\" in /opt/conda/lib/python3.7/site-packages (from tensorflow==2.1.0->ktrain) (0.34.2)\nRequirement already satisfied: opt-einsum>=2.3.2 in /opt/conda/lib/python3.7/site-packages (from tensorflow==2.1.0->ktrain) (3.2.1)\nRequirement already satisfied: tensorflow-estimator<2.2.0,>=2.1.0rc0 in /opt/conda/lib/python3.7/site-packages (from tensorflow==2.1.0->ktrain) (2.1.0)\nRequirement already satisfied: grpcio>=1.8.6 in /opt/conda/lib/python3.7/site-packages (from tensorflow==2.1.0->ktrain) (1.28.1)\nRequirement already satisfied: gast==0.2.2 in /opt/conda/lib/python3.7/site-packages (from tensorflow==2.1.0->ktrain) (0.2.2)\nRequirement already satisfied: astor>=0.6.0 in /opt/conda/lib/python3.7/site-packages (from tensorflow==2.1.0->ktrain) (0.8.1)\nRequirement already satisfied: keras-preprocessing>=1.1.0 in /opt/conda/lib/python3.7/site-packages (from tensorflow==2.1.0->ktrain) (1.1.0)\nRequirement already satisfied: tensorboard<2.2.0,>=2.1.0 in /opt/conda/lib/python3.7/site-packages (from tensorflow==2.1.0->ktrain) (2.1.1)\nRequirement already satisfied: keras-applications>=1.0.8 in /opt/conda/lib/python3.7/site-packages (from tensorflow==2.1.0->ktrain) (1.0.8)\nRequirement already satisfied: keras-transformer>=0.30.0 in /opt/conda/lib/python3.7/site-packages (from keras-bert>=0.81.0->ktrain) (0.33.0)\nRequirement already satisfied: backcall in /opt/conda/lib/python3.7/site-packages (from ipython->ktrain) (0.1.0)\nRequirement already satisfied: pexpect; sys_platform != \"win32\" in /opt/conda/lib/python3.7/site-packages (from ipython->ktrain) (4.8.0)\nRequirement already satisfied: prompt-toolkit!=3.0.0,!=3.0.1,<3.1.0,>=2.0.0 in /opt/conda/lib/python3.7/site-packages (from ipython->ktrain) (2.0.10)\nRequirement already satisfied: traitlets>=4.2 in /opt/conda/lib/python3.7/site-packages (from ipython->ktrain) (4.3.3)\n"
     ]
    },
    {
     "name": "stdout",
     "output_type": "stream",
     "text": [
      "Requirement already satisfied: jedi>=0.10 in /opt/conda/lib/python3.7/site-packages (from ipython->ktrain) (0.14.1)\nRequirement already satisfied: setuptools>=18.5 in /opt/conda/lib/python3.7/site-packages (from ipython->ktrain) (45.2.0.post20200209)\nRequirement already satisfied: pygments in /opt/conda/lib/python3.7/site-packages (from ipython->ktrain) (2.5.2)\nRequirement already satisfied: pickleshare in /opt/conda/lib/python3.7/site-packages (from ipython->ktrain) (0.7.5)\nRequirement already satisfied: s3transfer<0.4.0,>=0.3.0 in /opt/conda/lib/python3.7/site-packages (from boto3->transformers>=2.7.0->ktrain) (0.3.3)\nRequirement already satisfied: botocore<1.16.0,>=1.15.43 in /opt/conda/lib/python3.7/site-packages (from boto3->transformers>=2.7.0->ktrain) (1.15.43)\nRequirement already satisfied: jmespath<1.0.0,>=0.7.1 in /opt/conda/lib/python3.7/site-packages (from boto3->transformers>=2.7.0->ktrain) (0.9.5)\nRequirement already satisfied: click in /opt/conda/lib/python3.7/site-packages (from sacremoses->transformers>=2.7.0->ktrain) (7.0)\nRequirement already satisfied: h5py in /opt/conda/lib/python3.7/site-packages (from Keras>=2.2.4->seqeval->ktrain) (2.10.0)\nRequirement already satisfied: googleapis-common-protos in /opt/conda/lib/python3.7/site-packages (from tensorflow-metadata->tensorflow-datasets->ktrain) (1.51.0)\nRequirement already satisfied: MarkupSafe>=0.23 in /opt/conda/lib/python3.7/site-packages (from Jinja2>=2.7->bokeh->ktrain) (1.1.1)\nRequirement already satisfied: google-auth-oauthlib<0.5,>=0.4.1 in /opt/conda/lib/python3.7/site-packages (from tensorboard<2.2.0,>=2.1.0->tensorflow==2.1.0->ktrain) (0.4.1)\nRequirement already satisfied: markdown>=2.6.8 in /opt/conda/lib/python3.7/site-packages (from tensorboard<2.2.0,>=2.1.0->tensorflow==2.1.0->ktrain) (3.2.1)\nRequirement already satisfied: werkzeug>=0.11.15 in /opt/conda/lib/python3.7/site-packages (from tensorboard<2.2.0,>=2.1.0->tensorflow==2.1.0->ktrain) (1.0.0)\nRequirement already satisfied: google-auth<2,>=1.6.3 in /opt/conda/lib/python3.7/site-packages (from tensorboard<2.2.0,>=2.1.0->tensorflow==2.1.0->ktrain) (1.11.2)\nRequirement already satisfied: keras-position-wise-feed-forward>=0.5.0 in /opt/conda/lib/python3.7/site-packages (from keras-transformer>=0.30.0->keras-bert>=0.81.0->ktrain) (0.6.0)\nRequirement already satisfied: keras-multi-head>=0.22.0 in /opt/conda/lib/python3.7/site-packages (from keras-transformer>=0.30.0->keras-bert>=0.81.0->ktrain) (0.22.0)\nRequirement already satisfied: keras-layer-normalization>=0.12.0 in /opt/conda/lib/python3.7/site-packages (from keras-transformer>=0.30.0->keras-bert>=0.81.0->ktrain) (0.14.0)\nRequirement already satisfied: keras-embed-sim>=0.7.0 in /opt/conda/lib/python3.7/site-packages (from keras-transformer>=0.30.0->keras-bert>=0.81.0->ktrain) (0.7.0)\nRequirement already satisfied: keras-pos-embd>=0.10.0 in /opt/conda/lib/python3.7/site-packages (from keras-transformer>=0.30.0->keras-bert>=0.81.0->ktrain) (0.11.0)\nRequirement already satisfied: ptyprocess>=0.5 in /opt/conda/lib/python3.7/site-packages (from pexpect; sys_platform != \"win32\"->ipython->ktrain) (0.6.0)\nRequirement already satisfied: wcwidth in /opt/conda/lib/python3.7/site-packages (from prompt-toolkit!=3.0.0,!=3.0.1,<3.1.0,>=2.0.0->ipython->ktrain) (0.1.8)\nRequirement already satisfied: ipython-genutils in /opt/conda/lib/python3.7/site-packages (from traitlets>=4.2->ipython->ktrain) (0.2.0)\nRequirement already satisfied: parso>=0.5.0 in /opt/conda/lib/python3.7/site-packages (from jedi>=0.10->ipython->ktrain) (0.6.1)\nRequirement already satisfied: docutils<0.16,>=0.10 in /opt/conda/lib/python3.7/site-packages (from botocore<1.16.0,>=1.15.43->boto3->transformers>=2.7.0->ktrain) (0.15.2)\nRequirement already satisfied: requests-oauthlib>=0.7.0 in /opt/conda/lib/python3.7/site-packages (from google-auth-oauthlib<0.5,>=0.4.1->tensorboard<2.2.0,>=2.1.0->tensorflow==2.1.0->ktrain) (1.2.0)\nRequirement already satisfied: rsa<4.1,>=3.1.4 in /opt/conda/lib/python3.7/site-packages (from google-auth<2,>=1.6.3->tensorboard<2.2.0,>=2.1.0->tensorflow==2.1.0->ktrain) (4.0)\nRequirement already satisfied: cachetools<5.0,>=2.0.0 in /opt/conda/lib/python3.7/site-packages (from google-auth<2,>=1.6.3->tensorboard<2.2.0,>=2.1.0->tensorflow==2.1.0->ktrain) (3.1.1)\nRequirement already satisfied: pyasn1-modules>=0.2.1 in /opt/conda/lib/python3.7/site-packages (from google-auth<2,>=1.6.3->tensorboard<2.2.0,>=2.1.0->tensorflow==2.1.0->ktrain) (0.2.7)\nRequirement already satisfied: keras-self-attention==0.41.0 in /opt/conda/lib/python3.7/site-packages (from keras-multi-head>=0.22.0->keras-transformer>=0.30.0->keras-bert>=0.81.0->ktrain) (0.41.0)\nRequirement already satisfied: oauthlib>=3.0.0 in /opt/conda/lib/python3.7/site-packages (from requests-oauthlib>=0.7.0->google-auth-oauthlib<0.5,>=0.4.1->tensorboard<2.2.0,>=2.1.0->tensorflow==2.1.0->ktrain) (3.0.1)\nRequirement already satisfied: pyasn1>=0.1.3 in /opt/conda/lib/python3.7/site-packages (from rsa<4.1,>=3.1.4->google-auth<2,>=1.6.3->tensorboard<2.2.0,>=2.1.0->tensorflow==2.1.0->ktrain) (0.4.8)\n"
     ]
    }
   ],
   "source": [
    "!pip install ktrain"
   ]
  },
  {
   "cell_type": "code",
   "execution_count": 31,
   "metadata": {
    "trusted": true
   },
   "outputs": [
    {
     "name": "stdout",
     "output_type": "stream",
     "text": [
      "lang: en\npreprocessing texts...\nfitting model...\niteration: 1 of max_iter: 10\niteration: 2 of max_iter: 10\niteration: 3 of max_iter: 10\niteration: 4 of max_iter: 10\niteration: 5 of max_iter: 10\niteration: 6 of max_iter: 10\niteration: 7 of max_iter: 10\niteration: 8 of max_iter: 10\niteration: 9 of max_iter: 10\niteration: 10 of max_iter: 10\ndone.\n"
     ]
    }
   ],
   "source": [
    "import ktrain\n",
    "ktrain.text.preprocessor.detect_lang = ktrain.text.textutils.detect_lang\n",
    "\n",
    "max_vocab = 10000     # set the maximum vocabulary size\n",
    "num_of_topics = 20  # set the number of topics\n",
    "#max_vocab = 10000\n",
    "\n",
    "# Run topic modeling using Keras wrappers on LDA\n",
    "tm = ktrain.text.get_topic_model(df['text_lemmatized'], n_topics = num_of_topics, n_features = max_vocab, lda_max_iter = 10, lda_mode = 'batch')"
   ]
  },
  {
   "cell_type": "code",
   "execution_count": 32,
   "metadata": {
    "trusted": true
   },
   "outputs": [
    {
     "name": "stdout",
     "output_type": "stream",
     "text": [
      "topic 0 | compound concentration inhibitor assay antiviral drug inhibition replication acid inhibitory\ntopic 1 | expression lung pathway mrna replication tissue expressed ifn signaling immune\ntopic 2 | epidemic contact transmission network parameter estimate distribution social probability measure\ntopic 3 | read genome sequencing database del della che library specie set\ntopic 4 | dna genome mrna primer product target probe transcript plasmid polymerase\ntopic 5 | immune lung cytokine mouse receptor production antigen macrophage inflammatory cd8\ntopic 6 | drug mers-cov trial sars-cov antiviral therapy hiv sars therapeutic epitope\ntopic 7 | pedv pig cat strain animal dog piglet diarrhea farm tissue\ntopic 8 | hospital symptom age child pneumonia risk mortality care outcome admission\ntopic 9 | antibody binding fusion incubated entry min expression membrane assay surface\ntopic 10 | preprint license medrxiv covid-19 copyright holder authorfunder display granted doi\ntopic 11 | ifn membrane replication mhv mutant golgi prrsv pathway expression structure\ntopic 12 | country public risk pandemic surveillance vaccine global animal national care\ntopic 13 | bat mers-cov specie strain transmission camel phylogenetic tree genome genetic\ntopic 14 | assay pcr specimen child rsv bacterial sensitivity swab age primer\ntopic 15 | replication pathway cellular activation interaction expression autophagy mechanism complex apoptosis\ntopic 16 | mouse brain animal tissue cns liver expression weight rat cd8\ntopic 17 | vaccine antibody mouse animal serum titer ibv strain antigen vaccination\ntopic 18 | structure residue domain binding site sars-cov interaction acid amino mutation\ntopic 19 | temperature particle concentration surface air mask room transmission aerosol size\n"
     ]
    }
   ],
   "source": [
    "tm.print_topics()"
   ]
  },
  {
   "cell_type": "code",
   "execution_count": 33,
   "metadata": {
    "trusted": true
   },
   "outputs": [
    {
     "name": "stdout",
     "output_type": "stream",
     "text": [
      "done.\n"
     ]
    }
   ],
   "source": [
    "threshold_value = 0.25\n",
    "tm.build(df['text_lemmatized'], threshold = threshold_value)"
   ]
  },
  {
   "cell_type": "code",
   "execution_count": 34,
   "metadata": {
    "trusted": true
   },
   "outputs": [],
   "source": [
    "topic_list = []              # list of topic numbers for the primary topic for each paper\n",
    "topic_words_list = []        # list of the words for the primary topic of each paper\n",
    "\n",
    "# Iterate through the lemmatized paper texts\n",
    "\n",
    "for i in df['text_lemmatized']:\n",
    "    \n",
    "    # Identify the most likely topic or primary topic for the paper text\n",
    "    topic_list.append(np.argmax(tm.predict([i])))\n",
    "    \n",
    "    # Identify the string of words for the most likely topic for the paper text\n",
    "    topic_words_list.append(tm.topics[np.argmax(tm.predict([i]))])\n",
    "\n",
    "# Add the list of most likely topics for each paper, and the corresponding topic word string to df     \n",
    "df['Topic Number'] = topic_list\n",
    "df['List of Topics'] = topic_words_list"
   ]
  },
  {
   "cell_type": "code",
   "execution_count": 35,
   "metadata": {
    "trusted": true
   },
   "outputs": [
    {
     "data": {
      "text/html": [
       "<div>\n<style scoped>\n    .dataframe tbody tr th:only-of-type {\n        vertical-align: middle;\n    }\n\n    .dataframe tbody tr th {\n        vertical-align: top;\n    }\n\n    .dataframe thead th {\n        text-align: right;\n    }\n</style>\n<table border=\"1\" class=\"dataframe\">\n  <thead>\n    <tr style=\"text-align: right;\">\n      <th></th>\n      <th>Unnamed: 0</th>\n      <th>title</th>\n      <th>abstract</th>\n      <th>body_text</th>\n      <th>ref</th>\n      <th>text_lemmatized</th>\n      <th>Topic Number</th>\n      <th>List of Topics</th>\n    </tr>\n  </thead>\n  <tbody>\n    <tr>\n      <th>0</th>\n      <td>1</td>\n      <td>analysis title regaining perspective sars-cov-...</td>\n      <td>past three months new coronavirus epidemic gro...</td>\n      <td>december 2019 novel coronavirus sars-cov-2 ide...</td>\n      <td>ms supported part stephany w holloway universi...</td>\n      <td>['december', '2019', 'novel', 'coronavirus', '...</td>\n      <td>10</td>\n      <td>preprint license medrxiv covid-19 copyright ho...</td>\n    </tr>\n    <tr>\n      <th>1</th>\n      <td>2</td>\n      <td>relationship average daily temperature average...</td>\n      <td>rapid outbreak new coronavirus pandemic spread...</td>\n      <td>outbreak infectious diseases always one import...</td>\n      <td>studies area include nkengasong mankoula wen e...</td>\n      <td>['outbreak', 'infectious', 'disease', 'always'...</td>\n      <td>10</td>\n      <td>preprint license medrxiv covid-19 copyright ho...</td>\n    </tr>\n    <tr>\n      <th>2</th>\n      <td>7</td>\n      <td>assessing spread risk wuhan novel coronavirus ...</td>\n      <td>background novel coronavirus emerged wuhan cit...</td>\n      <td>december 2019 cluster patients pneumonia unkno...</td>\n      <td>february 1 st 2020 reported singapore south ko...</td>\n      <td>['december', '2019', 'cluster', 'patient', 'pn...</td>\n      <td>10</td>\n      <td>preprint license medrxiv covid-19 copyright ho...</td>\n    </tr>\n    <tr>\n      <th>3</th>\n      <td>8</td>\n      <td>forecasting worldwide spread covid-19 based lo...</td>\n      <td>background outbreak coronavirus disease 2019 s...</td>\n      <td>novel coronavirus caused pneumonia cases wuhan...</td>\n      <td>including italy south korea iran france epidem...</td>\n      <td>['novel', 'coronavirus', 'caused', 'pneumonia'...</td>\n      <td>10</td>\n      <td>preprint license medrxiv covid-19 copyright ho...</td>\n    </tr>\n    <tr>\n      <th>4</th>\n      <td>9</td>\n      <td>title early scientific literature response nov...</td>\n      <td>rights reserved reuse allowed without permissi...</td>\n      <td>recent events highlight emerging re-emerging p...</td>\n      <td>moher liberati tetzlaff j altman dg prisma gro...</td>\n      <td>['recent', 'event', 'highlight', 'emerging', '...</td>\n      <td>12</td>\n      <td>country public risk pandemic surveillance vacc...</td>\n    </tr>\n    <tr>\n      <th>5</th>\n      <td>10</td>\n      <td>twirls automated topic-wise inference method b...</td>\n      <td>faced current large-scale public health emerge...</td>\n      <td>sudden outbreak new coronavirus end december 2...</td>\n      <td>shows cshgs 2 connections ifitm1 ace2 dpp4 enr...</td>\n      <td>['sudden', 'outbreak', 'new', 'coronavirus', '...</td>\n      <td>10</td>\n      <td>preprint license medrxiv covid-19 copyright ho...</td>\n    </tr>\n    <tr>\n      <th>6</th>\n      <td>12</td>\n      <td>impact regular school closure seasonal influen...</td>\n      <td>school closure often considered option mitigat...</td>\n      <td>affect seasonal influenza dynamics model appli...</td>\n      <td>calibration results - simulated empirical inci...</td>\n      <td>['affect', 'seasonal', 'influenza', 'dynamic',...</td>\n      <td>2</td>\n      <td>epidemic contact transmission network paramete...</td>\n    </tr>\n    <tr>\n      <th>7</th>\n      <td>14</td>\n      <td>predict next moves covid-19 reveal temperate t...</td>\n      <td>spread covid-19 engulfs almost countries terri...</td>\n      <td>incidence mysterious sars-like cluster pneumon...</td>\n      <td>31 2019 reported hubei province wuhan china no...</td>\n      <td>['incidence', 'mysterious', 'sars-like', 'clus...</td>\n      <td>10</td>\n      <td>preprint license medrxiv covid-19 copyright ho...</td>\n    </tr>\n    <tr>\n      <th>8</th>\n      <td>16</td>\n      <td>hidden gene astroviruses encodes cell-permeabi...</td>\n      <td>human astroviruses small nonenveloped viruses ...</td>\n      <td>humans astroviruses belong genus mamastrovirus...</td>\n      <td>putative xp proteins encoded genogroup iii iv ...</td>\n      <td>['human', 'astroviruses', 'belong', 'genus', '...</td>\n      <td>18</td>\n      <td>structure residue domain binding site sars-cov...</td>\n    </tr>\n    <tr>\n      <th>9</th>\n      <td>18</td>\n      <td>predicting novel covid-19 human infections usi...</td>\n      <td>since introduction novel corona virus chinese ...</td>\n      <td>since novel corona virus 19 first detected hub...</td>\n      <td>pandemic situations school-hawaii may 2009 han...</td>\n      <td>['since', 'novel', 'corona', 'virus', '19', 'f...</td>\n      <td>10</td>\n      <td>preprint license medrxiv covid-19 copyright ho...</td>\n    </tr>\n    <tr>\n      <th>10</th>\n      <td>20</td>\n      <td>estimation final size second phase coronavirus...</td>\n      <td>note logistic growth regression model used est...</td>\n      <td>however use approximate solution thus obtain f...</td>\n      <td>doubling time predicted evaluation coronavirus...</td>\n      <td>['however', 'use', 'approximate', 'solution', ...</td>\n      <td>10</td>\n      <td>preprint license medrxiv covid-19 copyright ho...</td>\n    </tr>\n    <tr>\n      <th>11</th>\n      <td>21</td>\n      <td>rené glawion bodo plachter constantin weiser k...</td>\n      <td>many countries consider lifting restrictions s...</td>\n      <td>authorities countries imposed restrictions soc...</td>\n      <td>daily growth rates level number sick jhu data ...</td>\n      <td>['authority', 'country', 'imposed', 'restricti...</td>\n      <td>2</td>\n      <td>epidemic contact transmission network paramete...</td>\n    </tr>\n    <tr>\n      <th>12</th>\n      <td>22</td>\n      <td>autocatalytic model covid-19 progression country</td>\n      <td>herewith present computational model forecasti...</td>\n      <td>recent spread freshly emerged pneumonia viral ...</td>\n      <td>dynamics cumulative diagnosed cases china 3112...</td>\n      <td>['recent', 'spread', 'freshly', 'emerged', 'pn...</td>\n      <td>10</td>\n      <td>preprint license medrxiv covid-19 copyright ho...</td>\n    </tr>\n    <tr>\n      <th>13</th>\n      <td>23</td>\n      <td>inclusive costs npi measures covid-19 pandemic...</td>\n      <td>paper evaluates total inclusive costs three pu...</td>\n      <td>countries imposing strict measures suppress co...</td>\n      <td>jonung roeger 2006 keogh-brown et al 2010 calc...</td>\n      <td>['country', 'imposing', 'strict', 'measure', '...</td>\n      <td>2</td>\n      <td>epidemic contact transmission network paramete...</td>\n    </tr>\n    <tr>\n      <th>14</th>\n      <td>24</td>\n      <td>spatial model covid-19 transmission england wa...</td>\n      <td>outbreak novel coronavirus named covid-19 firs...</td>\n      <td>outbreak novel coronavirus recently renamed co...</td>\n      <td>model structure within ward together associate...</td>\n      <td>['outbreak', 'novel', 'coronavirus', 'recently...</td>\n      <td>10</td>\n      <td>preprint license medrxiv covid-19 copyright ho...</td>\n    </tr>\n    <tr>\n      <th>15</th>\n      <td>25</td>\n      <td>acute liver injury association death risk pati...</td>\n      <td>infectious disease caused severe acute respira...</td>\n      <td>onset admission death recorded onset time defi...</td>\n      <td>bio-germ medical technology co ltd viral rna e...</td>\n      <td>['onset', 'admission', 'death', 'recorded', 'o...</td>\n      <td>8</td>\n      <td>hospital symptom age child pneumonia risk mort...</td>\n    </tr>\n    <tr>\n      <th>16</th>\n      <td>27</td>\n      <td>artificial intelligence-based first-line defen...</td>\n      <td>combat pandemic coronavirus disease numerous g...</td>\n      <td>currently world facing unprecedented health cr...</td>\n      <td>identification covid-19 cases regards number q...</td>\n      <td>['currently', 'world', 'facing', 'unprecedente...</td>\n      <td>2</td>\n      <td>epidemic contact transmission network paramete...</td>\n    </tr>\n    <tr>\n      <th>17</th>\n      <td>28</td>\n      <td>nelfinavir predicted potential inhibitor 2019-...</td>\n      <td>2019-ncov caused 80 deaths 27 january 2020 chi...</td>\n      <td>december 2019 cluster patients pneumonia repor...</td>\n      <td>sequence alignment 2019-ncov pro sars pro inte...</td>\n      <td>['december', '2019', 'cluster', 'patient', 'pn...</td>\n      <td>18</td>\n      <td>structure residue domain binding site sars-cov...</td>\n    </tr>\n    <tr>\n      <th>18</th>\n      <td>29</td>\n      <td>covid-19 coronavirus vaccine design using reve...</td>\n      <td>ultimately combat emerging covid-19 pandemic d...</td>\n      <td>issues lack inducing complete protection possi...</td>\n      <td>seven human coronaviruses eight 177 coronaviru...</td>\n      <td>['issue', 'lack', 'inducing', 'complete', 'pro...</td>\n      <td>17</td>\n      <td>vaccine antibody mouse animal serum titer ibv ...</td>\n    </tr>\n    <tr>\n      <th>19</th>\n      <td>30</td>\n      <td>quantifying sars-cov-2 transmission suggests e...</td>\n      <td>newly emergent human virus sars-cov-2 resultin...</td>\n      <td>environmental transmission transmission via co...</td>\n      <td>value depend significantly choice prior functi...</td>\n      <td>['environmental', 'transmission', 'transmissio...</td>\n      <td>10</td>\n      <td>preprint license medrxiv covid-19 copyright ho...</td>\n    </tr>\n  </tbody>\n</table>\n</div>"
      ],
      "text/plain": [
       "    Unnamed: 0                                              title  \\\n0            1  analysis title regaining perspective sars-cov-...   \n1            2  relationship average daily temperature average...   \n2            7  assessing spread risk wuhan novel coronavirus ...   \n3            8  forecasting worldwide spread covid-19 based lo...   \n4            9  title early scientific literature response nov...   \n5           10  twirls automated topic-wise inference method b...   \n6           12  impact regular school closure seasonal influen...   \n7           14  predict next moves covid-19 reveal temperate t...   \n8           16  hidden gene astroviruses encodes cell-permeabi...   \n9           18  predicting novel covid-19 human infections usi...   \n10          20  estimation final size second phase coronavirus...   \n11          21  rené glawion bodo plachter constantin weiser k...   \n12          22   autocatalytic model covid-19 progression country   \n13          23  inclusive costs npi measures covid-19 pandemic...   \n14          24  spatial model covid-19 transmission england wa...   \n15          25  acute liver injury association death risk pati...   \n16          27  artificial intelligence-based first-line defen...   \n17          28  nelfinavir predicted potential inhibitor 2019-...   \n18          29  covid-19 coronavirus vaccine design using reve...   \n19          30  quantifying sars-cov-2 transmission suggests e...   \n\n                                             abstract  \\\n0   past three months new coronavirus epidemic gro...   \n1   rapid outbreak new coronavirus pandemic spread...   \n2   background novel coronavirus emerged wuhan cit...   \n3   background outbreak coronavirus disease 2019 s...   \n4   rights reserved reuse allowed without permissi...   \n5   faced current large-scale public health emerge...   \n6   school closure often considered option mitigat...   \n7   spread covid-19 engulfs almost countries terri...   \n8   human astroviruses small nonenveloped viruses ...   \n9   since introduction novel corona virus chinese ...   \n10  note logistic growth regression model used est...   \n11  many countries consider lifting restrictions s...   \n12  herewith present computational model forecasti...   \n13  paper evaluates total inclusive costs three pu...   \n14  outbreak novel coronavirus named covid-19 firs...   \n15  infectious disease caused severe acute respira...   \n16  combat pandemic coronavirus disease numerous g...   \n17  2019-ncov caused 80 deaths 27 january 2020 chi...   \n18  ultimately combat emerging covid-19 pandemic d...   \n19  newly emergent human virus sars-cov-2 resultin...   \n\n                                            body_text  \\\n0   december 2019 novel coronavirus sars-cov-2 ide...   \n1   outbreak infectious diseases always one import...   \n2   december 2019 cluster patients pneumonia unkno...   \n3   novel coronavirus caused pneumonia cases wuhan...   \n4   recent events highlight emerging re-emerging p...   \n5   sudden outbreak new coronavirus end december 2...   \n6   affect seasonal influenza dynamics model appli...   \n7   incidence mysterious sars-like cluster pneumon...   \n8   humans astroviruses belong genus mamastrovirus...   \n9   since novel corona virus 19 first detected hub...   \n10  however use approximate solution thus obtain f...   \n11  authorities countries imposed restrictions soc...   \n12  recent spread freshly emerged pneumonia viral ...   \n13  countries imposing strict measures suppress co...   \n14  outbreak novel coronavirus recently renamed co...   \n15  onset admission death recorded onset time defi...   \n16  currently world facing unprecedented health cr...   \n17  december 2019 cluster patients pneumonia repor...   \n18  issues lack inducing complete protection possi...   \n19  environmental transmission transmission via co...   \n\n                                                  ref  \\\n0   ms supported part stephany w holloway universi...   \n1   studies area include nkengasong mankoula wen e...   \n2   february 1 st 2020 reported singapore south ko...   \n3   including italy south korea iran france epidem...   \n4   moher liberati tetzlaff j altman dg prisma gro...   \n5   shows cshgs 2 connections ifitm1 ace2 dpp4 enr...   \n6   calibration results - simulated empirical inci...   \n7   31 2019 reported hubei province wuhan china no...   \n8   putative xp proteins encoded genogroup iii iv ...   \n9   pandemic situations school-hawaii may 2009 han...   \n10  doubling time predicted evaluation coronavirus...   \n11  daily growth rates level number sick jhu data ...   \n12  dynamics cumulative diagnosed cases china 3112...   \n13  jonung roeger 2006 keogh-brown et al 2010 calc...   \n14  model structure within ward together associate...   \n15  bio-germ medical technology co ltd viral rna e...   \n16  identification covid-19 cases regards number q...   \n17  sequence alignment 2019-ncov pro sars pro inte...   \n18  seven human coronaviruses eight 177 coronaviru...   \n19  value depend significantly choice prior functi...   \n\n                                      text_lemmatized  Topic Number  \\\n0   ['december', '2019', 'novel', 'coronavirus', '...            10   \n1   ['outbreak', 'infectious', 'disease', 'always'...            10   \n2   ['december', '2019', 'cluster', 'patient', 'pn...            10   \n3   ['novel', 'coronavirus', 'caused', 'pneumonia'...            10   \n4   ['recent', 'event', 'highlight', 'emerging', '...            12   \n5   ['sudden', 'outbreak', 'new', 'coronavirus', '...            10   \n6   ['affect', 'seasonal', 'influenza', 'dynamic',...             2   \n7   ['incidence', 'mysterious', 'sars-like', 'clus...            10   \n8   ['human', 'astroviruses', 'belong', 'genus', '...            18   \n9   ['since', 'novel', 'corona', 'virus', '19', 'f...            10   \n10  ['however', 'use', 'approximate', 'solution', ...            10   \n11  ['authority', 'country', 'imposed', 'restricti...             2   \n12  ['recent', 'spread', 'freshly', 'emerged', 'pn...            10   \n13  ['country', 'imposing', 'strict', 'measure', '...             2   \n14  ['outbreak', 'novel', 'coronavirus', 'recently...            10   \n15  ['onset', 'admission', 'death', 'recorded', 'o...             8   \n16  ['currently', 'world', 'facing', 'unprecedente...             2   \n17  ['december', '2019', 'cluster', 'patient', 'pn...            18   \n18  ['issue', 'lack', 'inducing', 'complete', 'pro...            17   \n19  ['environmental', 'transmission', 'transmissio...            10   \n\n                                       List of Topics  \n0   preprint license medrxiv covid-19 copyright ho...  \n1   preprint license medrxiv covid-19 copyright ho...  \n2   preprint license medrxiv covid-19 copyright ho...  \n3   preprint license medrxiv covid-19 copyright ho...  \n4   country public risk pandemic surveillance vacc...  \n5   preprint license medrxiv covid-19 copyright ho...  \n6   epidemic contact transmission network paramete...  \n7   preprint license medrxiv covid-19 copyright ho...  \n8   structure residue domain binding site sars-cov...  \n9   preprint license medrxiv covid-19 copyright ho...  \n10  preprint license medrxiv covid-19 copyright ho...  \n11  epidemic contact transmission network paramete...  \n12  preprint license medrxiv covid-19 copyright ho...  \n13  epidemic contact transmission network paramete...  \n14  preprint license medrxiv covid-19 copyright ho...  \n15  hospital symptom age child pneumonia risk mort...  \n16  epidemic contact transmission network paramete...  \n17  structure residue domain binding site sars-cov...  \n18  vaccine antibody mouse animal serum titer ibv ...  \n19  preprint license medrxiv covid-19 copyright ho...  "
      ]
     },
     "execution_count": 35,
     "metadata": {},
     "output_type": "execute_result"
    }
   ],
   "source": [
    "df.head(20)"
   ]
  },
  {
   "cell_type": "code",
   "execution_count": 39,
   "metadata": {
    "trusted": true
   },
   "outputs": [],
   "source": [
    "df.to_csv('after_modelling.csv', index=False)"
   ]
  }
 ],
 "metadata": {
  "kernelspec": {
   "language": "python",
   "display_name": "Python 3",
   "name": "python3"
  },
  "language_info": {
   "pygments_lexer": "ipython3",
   "nbconvert_exporter": "python",
   "version": "3.6.4",
   "file_extension": ".py",
   "codemirror_mode": {
    "name": "ipython",
    "version": 3
   },
   "name": "python",
   "mimetype": "text/x-python"
  }
 },
 "nbformat": 4,
 "nbformat_minor": 4
}
